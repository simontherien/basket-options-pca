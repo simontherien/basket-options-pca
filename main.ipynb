{
 "cells": [
  {
   "cell_type": "markdown",
   "metadata": {},
   "source": [
    "# Main file to call functions and produce results"
   ]
  },
  {
   "cell_type": "code",
   "execution_count": 1,
   "metadata": {},
   "outputs": [],
   "source": [
    "import numpy as np\n",
    "from reference_sol import ReferenceSol\n",
    "import matplotlib.pyplot as plt\n",
    "import pandas as pd"
   ]
  },
  {
   "cell_type": "code",
   "execution_count": 2,
   "metadata": {},
   "outputs": [],
   "source": [
    "tickers = [\"AAPL\", \"AMZN\", \"FB\", \"GOOG\", \"MSFT\"]\n",
    "vol =[0.029364897425919183, 0.024211461824768903, 0.02888393105895754, 0.02410220515718577, 0.02762892161687765]\n",
    "corr_matrix = np.array([\n",
    "    [1.0000000000000000, 0.6971648047240692, 0.7384565370708003, 0.6798703149875049, 0.6815233837805931],\n",
    "    [0.6971648047240692, 1.0000000000000000, 0.8388918757956443, 0.7516701327272224, 0.7668565257541257],\n",
    "    [0.7384565370708003, 0.8388918757956443, 1.0000000000000000, 0.8522010326073503, 0.7624155054902461],\n",
    "    [0.6798703149875049, 0.7516701327272224, 0.8522010326073503, 1.0000000000000000, 0.8029761601663761],\n",
    "    [0.6815233837805931, 0.7668565257541257, 0.7624155054902461, 0.8029761601663761, 1.0000000000000000]\n",
    "])"
   ]
  },
  {
   "cell_type": "code",
   "execution_count": 3,
   "metadata": {},
   "outputs": [],
   "source": [
    "nyears = 1.5\n",
    "biz_days = 252\n",
    "T = nyears * biz_days\n",
    "r = 0.02 / biz_days"
   ]
  },
  {
   "cell_type": "code",
   "execution_count": 4,
   "metadata": {},
   "outputs": [],
   "source": [
    "test = ReferenceSol(T=T, S0=100.0, corr_matrix=corr_matrix, vol=vol, rfr=r, K=100.0, nsim=100)"
   ]
  },
  {
   "cell_type": "code",
   "execution_count": 5,
   "metadata": {},
   "outputs": [],
   "source": [
    "stonks = test.compute_asset_paths()"
   ]
  },
  {
   "cell_type": "code",
   "execution_count": 6,
   "metadata": {},
   "outputs": [],
   "source": [
    "df_stonks = pd.DataFrame(stonks.T, columns=tickers)"
   ]
  },
  {
   "cell_type": "code",
   "execution_count": 8,
   "metadata": {},
   "outputs": [
    {
     "name": "stderr",
     "output_type": "stream",
     "text": [
      "Running simulations: 100%|██████████| 100/100 [00:04<00:00, 22.45it/s]\n"
     ]
    },
    {
     "data": {
      "text/plain": [
       "1.0941261647040221"
      ]
     },
     "execution_count": 8,
     "metadata": {},
     "output_type": "execute_result"
    }
   ],
   "source": [
    "test.compute_basket_payoff()"
   ]
  }
 ],
 "metadata": {
  "kernelspec": {
   "display_name": "Python 3.7.13 ('base')",
   "language": "python",
   "name": "python3"
  },
  "language_info": {
   "codemirror_mode": {
    "name": "ipython",
    "version": 3
   },
   "file_extension": ".py",
   "mimetype": "text/x-python",
   "name": "python",
   "nbconvert_exporter": "python",
   "pygments_lexer": "ipython3",
   "version": "3.7.13"
  },
  "orig_nbformat": 4,
  "vscode": {
   "interpreter": {
    "hash": "d83ab0d64be14c09b020a29be08d34c040451b024ad9b96fa91c39dea0fcc4fe"
   }
  }
 },
 "nbformat": 4,
 "nbformat_minor": 2
}
